{
 "cells": [
  {
   "cell_type": "code",
   "execution_count": null,
   "metadata": {},
   "outputs": [],
   "source": [
    "import json\n",
    "\n",
    "# Otvaranje fajla PDFScrap.txt za pisanje\n",
    "with open('PDFScrap.txt', 'w', encoding='utf-8') as output_file:\n",
    "    \n",
    "    # Otvaranje JSON fajla\n",
    "    with open('PDFScrap.json', 'r', encoding='utf-8') as file:\n",
    "        \n",
    "        # Iteracija kroz linije u JSON fajlu\n",
    "        for line in file:\n",
    "            try:\n",
    "                # Parsiranje JSON linije\n",
    "                instance = json.loads(line.strip())\n",
    "\n",
    "                # Pisanje formata u PDFScrap.txt\n",
    "                output_file.write(\"<***>\\n\")\n",
    "                output_file.write(f\"Naslov teksta: {instance.get('Naslov teksta', '')}\\n\")\n",
    "                output_file.write(f\"Naslov publikacije: {instance.get('Naslov publikacije', '')}\\n\")\n",
    "                output_file.write(f\"Autori: {instance.get('Autori', '')}\\n\")\n",
    "                output_file.write(f\"Godina: {instance.get('Godina', '')}\\n\")\n",
    "                output_file.write(f\"Stranice: {instance.get('Stranice', '')}\\n\")\n",
    "                output_file.write(f\"Sadržaj: {instance.get('Tekst', '')}\\n\")  # Promijenjen ključ u 'Tekst' za sadržaj\n",
    "                output_file.write(\"\\n\")  # Blank linija između instanci\n",
    "            except json.JSONDecodeError as e:\n",
    "                print(f\"Greška u dekodiranju JSON-a za liniju: {line}\")\n",
    "                print(e)\n"
   ]
  }
 ],
 "metadata": {
  "kernelspec": {
   "display_name": "Python 3",
   "language": "python",
   "name": "python3"
  },
  "language_info": {
   "codemirror_mode": {
    "name": "ipython",
    "version": 3
   },
   "file_extension": ".py",
   "mimetype": "text/x-python",
   "name": "python",
   "nbconvert_exporter": "python",
   "pygments_lexer": "ipython3",
   "version": "3.8.5"
  }
 },
 "nbformat": 4,
 "nbformat_minor": 4
}
