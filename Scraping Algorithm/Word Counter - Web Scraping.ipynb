{
 "cells": [
  {
   "cell_type": "code",
   "execution_count": null,
   "metadata": {},
   "outputs": [],
   "source": [
    "from google.colab import drive\n",
    "import os\n",
    "from collections import Counter\n",
    "\n",
    "total_word_count = 0\n",
    "word_count_per_file = {}\n",
    "\n",
    "txt_directory = '/content'\n",
    "\n",
    "# Loop through each file in the directory\n",
    "for filename in os.listdir(txt_directory):\n",
    "    if filename.endswith('.txt'):\n",
    "        file_path = os.path.join(txt_directory, filename)\n",
    "\n",
    "        # Open and read each file\n",
    "        with open(file_path, 'r', encoding='utf-8') as file:\n",
    "            text = file.read()\n",
    "            # Count words in the current file\n",
    "            words = text.split()\n",
    "            word_count = len(words)\n",
    "            total_word_count += word_count\n",
    "\n",
    "            # Store the word count for each file\n",
    "            word_count_per_file[filename] = word_count\n",
    "\n",
    "print(\"Word count per file:\")\n",
    "for filename, count in word_count_per_file.items():\n",
    "    print(f\"{filename}: {count} words\")\n",
    "\n",
    "print(f\"\\nTotal word count across all files: {total_word_count} words\")\n",
    "\n",
    "total_instance_count = 0\n",
    "instance_count_per_file = {}\n",
    "\n",
    "# Loop through each file in the directory\n",
    "for filename in os.listdir(txt_directory):\n",
    "    if filename.endswith(\".txt\"):\n",
    "        file_path = os.path.join(txt_directory, filename)\n",
    "\n",
    "        # Open and read each file\n",
    "        with open(file_path, \"r\", encoding=\"utf-8\") as file:\n",
    "            text = file.read()\n",
    "            # Count \"<***>\"\n",
    "            instance_count = text.count(\"<***>\")\n",
    "            total_instance_count += instance_count\n",
    "            instance_count_per_file[filename] = instance_count\n",
    "\n",
    "print(\"Instance count per file:\")\n",
    "for filename, count in instance_count_per_file.items():\n",
    "    print(f\"{filename}: {count} instances\")\n",
    "\n",
    "print(f\"\\nTotal instance count across all files: {total_instance_count} instances\")"
   ]
  }
 ],
 "metadata": {
  "kernelspec": {
   "display_name": "Python 3",
   "language": "python",
   "name": "python3"
  },
  "language_info": {
   "codemirror_mode": {
    "name": "ipython",
    "version": 3
   },
   "file_extension": ".py",
   "mimetype": "text/x-python",
   "name": "python",
   "nbconvert_exporter": "python",
   "version": "3.10.9"
  }
 },
 "nbformat": 4,
 "nbformat_minor": 5
}
